{
  "cells": [
    {
      "cell_type": "code",
      "execution_count": 1,
      "metadata": {
        "colab": {
          "base_uri": "https://localhost:8080/"
        },
        "id": "ctp-HXRs6qMF",
        "outputId": "14be0e39-65bc-4d9f-f082-4453a1be7981"
      },
      "outputs": [
        {
          "output_type": "stream",
          "name": "stdout",
          "text": [
            "--2022-03-03 22:07:51--  http://www.iro.umontreal.ca/~lisa/datasets/profiledata_06-May-2005.tar.gz\n",
            "Resolving www.iro.umontreal.ca (www.iro.umontreal.ca)... 132.204.26.36\n",
            "Connecting to www.iro.umontreal.ca (www.iro.umontreal.ca)|132.204.26.36|:80... connected.\n",
            "HTTP request sent, awaiting response... 200 OK\n",
            "Length: 135880312 (130M) [application/x-gzip]\n",
            "Saving to: ‘profiledata_06-May-2005.tar.gz’\n",
            "\n",
            "profiledata_06-May- 100%[===================>] 129.58M  16.3MB/s    in 9.2s    \n",
            "\n",
            "2022-03-03 22:08:01 (14.1 MB/s) - ‘profiledata_06-May-2005.tar.gz’ saved [135880312/135880312]\n",
            "\n",
            "profiledata_06-May-2005/\n",
            "profiledata_06-May-2005/artist_data.txt\n",
            "profiledata_06-May-2005/README.txt\n",
            "profiledata_06-May-2005/user_artist_data.txt\n",
            "profiledata_06-May-2005/artist_alias.txt\n"
          ]
        }
      ],
      "source": [
        "!set -e \n",
        "\n",
        "!mkdir -p datasets\n",
        "!cd datasets\n",
        "!wget http://www.iro.umontreal.ca/~lisa/datasets/profiledata_06-May-2005.tar.gz\n",
        "!tar xvf profiledata_06-May-2005.tar.gz\n",
        "!mv profiledata_06-May-2005/* datasets/\n",
        "!rm -r profiledata_06-May-2005"
      ]
    },
    {
      "cell_type": "code",
      "execution_count": null,
      "metadata": {
        "id": "5yN6_ugC6qML",
        "colab": {
          "base_uri": "https://localhost:8080/"
        },
        "outputId": "6db3baf8-2472-4fbf-e9b6-8deb1d012e74"
      },
      "outputs": [
        {
          "output_type": "stream",
          "name": "stdout",
          "text": [
            "1000002 1 55\n",
            "1000002 1000006 33\n",
            "1000002 1000007 8\n",
            "1000002 1000009 144\n",
            "1000002 1000010 314\n",
            "1000002 1000013 8\n",
            "1000002 1000014 42\n",
            "1000002 1000017 69\n",
            "1000002 1000024 329\n",
            "1000002 1000025 1\n"
          ]
        }
      ],
      "source": [
        "!cat datasets/user_artist_data.txt |head"
      ]
    },
    {
      "cell_type": "code",
      "execution_count": null,
      "metadata": {
        "id": "jYwcmT5n6qMM",
        "colab": {
          "base_uri": "https://localhost:8080/"
        },
        "outputId": "68530d56-9795-4aea-d681-6d77f3de29de"
      },
      "outputs": [
        {
          "output_type": "stream",
          "name": "stdout",
          "text": [
            "1134999\t06Crazy Life\n",
            "6821360\tPang Nakarin\n",
            "10113088\tTerfel, Bartoli- Mozart: Don\n",
            "10151459\tThe Flaming Sidebur\n",
            "6826647\tBodenstandig 3000\n",
            "10186265\tJota Quest e Ivete Sangalo\n",
            "6828986\tToto_XX (1977\n",
            "10236364\tU.S Bombs -\n",
            "1135000\tartist formaly know as Mat\n",
            "10299728\tKassierer - Musik für beide Ohren\n"
          ]
        }
      ],
      "source": [
        "!cat datasets/artist_data.txt |head"
      ]
    },
    {
      "cell_type": "code",
      "execution_count": null,
      "metadata": {
        "id": "H_Qw6_LF6qMN",
        "colab": {
          "base_uri": "https://localhost:8080/"
        },
        "outputId": "0c12de57-591e-4c02-f553-8318c62a0aef"
      },
      "outputs": [
        {
          "output_type": "stream",
          "name": "stdout",
          "text": [
            "1092764\t1000311\n",
            "1095122\t1000557\n",
            "6708070\t1007267\n",
            "10088054\t1042317\n",
            "1195917\t1042317\n",
            "1112006\t1000557\n",
            "1187350\t1294511\n",
            "1116694\t1327092\n",
            "6793225\t1042317\n",
            "1079959\t1000557\n"
          ]
        }
      ],
      "source": [
        "!cat datasets/artist_alias.txt |head"
      ]
    },
    {
      "cell_type": "code",
      "execution_count": 2,
      "metadata": {
        "id": "K603xxI26qMP"
      },
      "outputs": [],
      "source": [
        "import os, sys\n",
        "import re\n",
        "import random\n",
        "\n",
        "%matplotlib inline\n",
        "import matplotlib.pyplot as plt\n",
        "import pandas as pd\n",
        "import numpy as np\n",
        "from time import time"
      ]
    },
    {
      "cell_type": "code",
      "execution_count": 3,
      "metadata": {
        "id": "Seb5E9Qe8MX7",
        "colab": {
          "base_uri": "https://localhost:8080/"
        },
        "outputId": "32a30bdc-ddf6-4962-c5ad-2df20682ae3e"
      },
      "outputs": [
        {
          "output_type": "stream",
          "name": "stdout",
          "text": [
            "openjdk version \"1.8.0_312\"\n",
            "OpenJDK Runtime Environment (build 1.8.0_312-8u312-b07-0ubuntu1~18.04-b07)\n",
            "OpenJDK 64-Bit Server VM (build 25.312-b07, mixed mode)\n",
            "\u001b[K     |████████████████████████████████| 215.7 MB 62 kB/s \n",
            "\u001b[K     |████████████████████████████████| 197 kB 22.4 MB/s \n",
            "\u001b[?25h  Building wheel for pyspark (setup.py) ... \u001b[?25l\u001b[?25hdone\n"
          ]
        }
      ],
      "source": [
        "# Install java\n",
        "! apt-get install -y openjdk-8-jdk-headless -qq > /dev/null\n",
        "os.environ[\"JAVA_HOME\"] = \"/usr/lib/jvm/java-8-openjdk-amd64\"\n",
        "os.environ[\"PATH\"] = os.environ[\"JAVA_HOME\"] + \"/bin:\" + os.environ[\"PATH\"]\n",
        "! java -version\n",
        "\n",
        "# Install pyspark\n",
        "! pip install --ignore-installed -q pyspark==2.4.4\n",
        "\n",
        "#!pip install findspark\n",
        "#import findspark \n",
        "#!pip install pyspark==2.4.4 \n",
        "#import pyspark "
      ]
    },
    {
      "cell_type": "code",
      "execution_count": 4,
      "metadata": {
        "id": "tzfmAKJL6qMO"
      },
      "outputs": [],
      "source": [
        "from pyspark import SparkContext, SparkConf\n",
        "from pyspark.sql import SQLContext, SparkSession\n",
        "from pyspark.sql.types import StructType, StructField, LongType, IntegerType, StringType\n",
        "from pyspark.sql import SparkSession\n",
        "spark = SparkSession \\\n",
        "    .builder \\\n",
        "    .getOrCreate()"
      ]
    },
    {
      "cell_type": "code",
      "execution_count": 5,
      "metadata": {
        "id": "GxG0dzRcyKQq"
      },
      "outputs": [],
      "source": [
        "sc = SparkContext.getOrCreate(SparkConf().setMaster(\"local[*]\"))\n"
      ]
    },
    {
      "cell_type": "code",
      "execution_count": 6,
      "metadata": {
        "id": "TjSSiNd_zcTA"
      },
      "outputs": [],
      "source": [
        "from pyspark.sql import Row\n",
        "from pyspark.sql.functions import *"
      ]
    },
    {
      "cell_type": "code",
      "execution_count": null,
      "metadata": {
        "id": "LliN9R3x6qMQ"
      },
      "outputs": [],
      "source": [
        "sqlContext = SQLContext(sc)"
      ]
    },
    {
      "cell_type": "code",
      "execution_count": 7,
      "metadata": {
        "id": "621AsW0i6qMQ"
      },
      "outputs": [],
      "source": [
        "directory_path = \"datasets/\""
      ]
    },
    {
      "cell_type": "code",
      "execution_count": null,
      "metadata": {
        "id": "KkbyF9pW6qMR"
      },
      "outputs": [],
      "source": [
        "userArtistDataSchema = StructType([\n",
        "    StructField(\"userID\", LongType(), True),\n",
        "    StructField(\"artistID\", LongType(), True),\n",
        "    StructField(\"playcount\", IntegerType(), True)\n",
        "])\n",
        "\n",
        "userArtistDF = sqlContext.read.format('com.databricks.spark.csv').options(header='false', delimiter=' ').load(directory_path + 'user_artist_data.txt', schema=userArtistDataSchema).cache()"
      ]
    },
    {
      "cell_type": "code",
      "execution_count": null,
      "metadata": {
        "id": "w81AceTg6qMS",
        "colab": {
          "base_uri": "https://localhost:8080/"
        },
        "outputId": "39dc94d4-eae0-4c37-d336-9fd636db6cf6"
      },
      "outputs": [
        {
          "output_type": "stream",
          "name": "stdout",
          "text": [
            "+-------+--------+---------+\n",
            "| userID|artistID|playcount|\n",
            "+-------+--------+---------+\n",
            "|1000002|       1|       55|\n",
            "|1000002| 1000006|       33|\n",
            "|1000002| 1000007|        8|\n",
            "|1000002| 1000009|      144|\n",
            "|1000002| 1000010|      314|\n",
            "|1000002| 1000013|        8|\n",
            "|1000002| 1000014|       42|\n",
            "|1000002| 1000017|       69|\n",
            "|1000002| 1000024|      329|\n",
            "|1000002| 1000025|        1|\n",
            "|1000002| 1000028|       17|\n",
            "|1000002| 1000031|       47|\n",
            "|1000002| 1000033|       15|\n",
            "|1000002| 1000042|        1|\n",
            "|1000002| 1000045|        1|\n",
            "|1000002| 1000054|        2|\n",
            "|1000002| 1000055|       25|\n",
            "|1000002| 1000056|        4|\n",
            "|1000002| 1000059|        2|\n",
            "|1000002| 1000062|       71|\n",
            "+-------+--------+---------+\n",
            "only showing top 20 rows\n",
            "\n"
          ]
        }
      ],
      "source": [
        "userArtistDF.show()"
      ]
    },
    {
      "cell_type": "code",
      "execution_count": null,
      "metadata": {
        "id": "FAS8ZBi87qpt"
      },
      "outputs": [],
      "source": [
        "userArtistDF.count() "
      ]
    },
    {
      "cell_type": "code",
      "execution_count": null,
      "metadata": {
        "id": "SuCcpJlm6qMV",
        "colab": {
          "base_uri": "https://localhost:8080/"
        },
        "outputId": "f7a3f214-c721-409c-8b9c-dcbe7e4aee64"
      },
      "outputs": [
        {
          "output_type": "stream",
          "name": "stdout",
          "text": [
            " total number of users : 24296858\n",
            " total number of distinct users : 148111\n"
          ]
        }
      ],
      "source": [
        "totalUsers = userArtistDF.count()\n",
        "print(\" total number of users : {}\".format(totalUsers))\n",
        "distinctUsers = userArtistDF.select('userID').distinct().count()\n",
        "print(\" total number of distinct users : {}\".format(distinctUsers))"
      ]
    },
    {
      "cell_type": "code",
      "execution_count": null,
      "metadata": {
        "id": "xIG3BZGQ6qMW",
        "colab": {
          "base_uri": "https://localhost:8080/"
        },
        "outputId": "e112604c-be2b-4d1b-c6c3-439f6b1aefb8"
      },
      "outputs": [
        {
          "output_type": "stream",
          "name": "stdout",
          "text": [
            " total number of distinct artists : 1631028\n"
          ]
        }
      ],
      "source": [
        "distinctArtists = userArtistDF.select('artistID').distinct().count()\n",
        "print(\" total number of distinct artists : {}\".format(distinctArtists))"
      ]
    },
    {
      "cell_type": "code",
      "execution_count": null,
      "metadata": {
        "id": "UYN6naHV6qMX",
        "colab": {
          "base_uri": "https://localhost:8080/"
        },
        "outputId": "0f0bb17a-d3b4-487e-cffc-7104d5ea9799"
      },
      "outputs": [
        {
          "output_type": "stream",
          "name": "stdout",
          "text": [
            "+------+--------+---------+\n",
            "|userID|artistID|playcount|\n",
            "+------+--------+---------+\n",
            "+------+--------+---------+\n",
            "\n",
            " negative ID : None\n",
            "+------+--------+---------+\n",
            "|userID|artistID|playcount|\n",
            "+------+--------+---------+\n",
            "+------+--------+---------+\n",
            "\n",
            " invalid ID : None\n"
          ]
        }
      ],
      "source": [
        "MAX_ID =  2147483647\n",
        "negativeUserID = userArtistDF[(userArtistDF.userID.cast('int') < 0)]\n",
        "print(\" negative ID : {}\".format(negativeUserID.show()))\n",
        "invalidUserID = userArtistDF[(userArtistDF.userID.cast('int') > MAX_ID)]\n",
        "print(\" invalid ID : {}\".format(invalidUserID.show()))"
      ]
    },
    {
      "cell_type": "code",
      "execution_count": null,
      "metadata": {
        "id": "ZarBw-Fw6qMY",
        "colab": {
          "base_uri": "https://localhost:8080/"
        },
        "outputId": "7ab1d74a-63ed-4929-b868-838e1382def1"
      },
      "outputs": [
        {
          "output_type": "stream",
          "name": "stdout",
          "text": [
            "+-------+------------------+\n",
            "|summary|            userID|\n",
            "+-------+------------------+\n",
            "|  count|          24296858|\n",
            "|   mean|1947573.2653533637|\n",
            "| stddev| 496000.5551820078|\n",
            "|    min|                90|\n",
            "|    max|           2443548|\n",
            "+-------+------------------+\n",
            "\n"
          ]
        }
      ],
      "source": [
        "userArtistDF.select('userID').describe().show()"
      ]
    },
    {
      "cell_type": "code",
      "execution_count": null,
      "metadata": {
        "id": "Xl60utux6qMZ"
      },
      "outputs": [],
      "source": [
        "negativeArtistID = userArtistDF[(userArtistDF.userID.cast('int') < 0)]\n",
        "print(\" negative ID : {}\".format(negativeArtistID.show()))\n",
        "invalidArtistID = userArtistDF[(userArtistDF.userID.cast('int') > MAX_ID)]\n",
        "print(\" invalid ID : {}\".format(invalidArtistID.show()))"
      ]
    },
    {
      "cell_type": "code",
      "execution_count": null,
      "metadata": {
        "id": "qwxqZNgu6qMa",
        "colab": {
          "base_uri": "https://localhost:8080/"
        },
        "outputId": "461603b8-79d6-45b6-c717-a610b44b5554"
      },
      "outputs": [
        {
          "output_type": "stream",
          "name": "stdout",
          "text": [
            "+-------+------------------+\n",
            "|summary|          artistID|\n",
            "+-------+------------------+\n",
            "|  count|          24296858|\n",
            "|   mean|1718704.0937568964|\n",
            "| stddev|2539389.0924284607|\n",
            "|    min|                 1|\n",
            "|    max|          10794401|\n",
            "+-------+------------------+\n",
            "\n"
          ]
        }
      ],
      "source": [
        "userArtistDF.select('artistID').describe().show()"
      ]
    },
    {
      "cell_type": "code",
      "execution_count": null,
      "metadata": {
        "id": "bEHJ1xbP6qMb",
        "colab": {
          "base_uri": "https://localhost:8080/"
        },
        "outputId": "01c56214-eaa1-417b-a28d-834e3ab5d926"
      },
      "outputs": [
        {
          "output_type": "stream",
          "name": "stdout",
          "text": [
            "+-----------+\n",
            "|max(userID)|\n",
            "+-----------+\n",
            "|    2443548|\n",
            "+-----------+\n",
            "\n",
            "+-----------+\n",
            "|min(userID)|\n",
            "+-----------+\n",
            "|         90|\n",
            "+-----------+\n",
            "\n",
            "+-------------+\n",
            "|max(artistID)|\n",
            "+-------------+\n",
            "|     10794401|\n",
            "+-------------+\n",
            "\n",
            "+-------------+\n",
            "|min(artistID)|\n",
            "+-------------+\n",
            "|            1|\n",
            "+-------------+\n",
            "\n"
          ]
        }
      ],
      "source": [
        "maxUserID = userArtistDF.agg({'userID' : 'max'}).show() \n",
        "maxUserID = userArtistDF.agg({'userID' : 'min'}).show() \n",
        "maxUserID = userArtistDF.agg({'artistID' : 'max'}).show() \n",
        "maxUserID = userArtistDF.agg({'artistID' : 'min'}).show() "
      ]
    },
    {
      "cell_type": "markdown",
      "metadata": {
        "id": "LhdNNg0g6qMc"
      },
      "source": [
        "# Some Statistics"
      ]
    },
    {
      "cell_type": "code",
      "execution_count": null,
      "metadata": {
        "id": "liZZW4sU6qMe",
        "colab": {
          "base_uri": "https://localhost:8080/"
        },
        "outputId": "702cfe61-74e8-4403-f814-f6ffc6e52c9c"
      },
      "outputs": [
        {
          "output_type": "execute_result",
          "data": {
            "text/plain": [
              "[Row(userID=1000061, sum(playCount)=244),\n",
              " Row(userID=1000070, sum(playCount)=20200),\n",
              " Row(userID=1000313, sum(playCount)=201),\n",
              " Row(userID=1000832, sum(playCount)=1064),\n",
              " Row(userID=1000905, sum(playCount)=214),\n",
              " Row(userID=1001372, sum(playCount)=1336),\n",
              " Row(userID=1001409, sum(playCount)=18740),\n",
              " Row(userID=1001530, sum(playCount)=3013),\n",
              " Row(userID=1001700, sum(playCount)=635),\n",
              " Row(userID=1001731, sum(playCount)=4529),\n",
              " Row(userID=1001753, sum(playCount)=7761),\n",
              " Row(userID=1001872, sum(playCount)=9208),\n",
              " Row(userID=1002159, sum(playCount)=1313),\n",
              " Row(userID=1002420, sum(playCount)=10233),\n",
              " Row(userID=1002519, sum(playCount)=510),\n",
              " Row(userID=1002734, sum(playCount)=82),\n",
              " Row(userID=1003034, sum(playCount)=1012),\n",
              " Row(userID=1003076, sum(playCount)=1484),\n",
              " Row(userID=1003301, sum(playCount)=689),\n",
              " Row(userID=1004223, sum(playCount)=383)]"
            ]
          },
          "metadata": {},
          "execution_count": 36
        }
      ],
      "source": [
        "userActivity = userArtistDF.groupBy('userID').sum('playCount').collect()\n",
        "userActivity[:20]"
      ]
    },
    {
      "cell_type": "code",
      "execution_count": null,
      "metadata": {
        "id": "w0WwsgwX6qMf",
        "colab": {
          "base_uri": "https://localhost:8080/",
          "height": 490
        },
        "outputId": "5eac741c-c274-4368-f8a9-bc5c25f15dbb"
      },
      "outputs": [
        {
          "output_type": "display_data",
          "data": {
            "image/png": "[encoded data removed]",
            "text/plain": [
              "<Figure size 432x288 with 1 Axes>"
            ]
          },
          "metadata": {
            "needs_background": "light"
          }
        },
        {
          "output_type": "stream",
          "name": "stdout",
          "text": [
            "Sum = 371638969\n",
            "Mean = 2509.1922206993404\n",
            "Max = 674412\n",
            "Min = 1\n",
            "Percentile 25% = 204.0\n",
            "Percentile 50% = 892.0\n",
            "Percentile 75% = 2800.0\n",
            "Percentile 90% = 6484.0\n",
            "Percentile 95% = 10120.0\n",
            "Percentile 97% = 13297.399999999965\n",
            "The percentage of users who listen less than 10 times P(YUsr<=10) = 5.229%\n"
          ]
        }
      ],
      "source": [
        "pdfUsr = pd.DataFrame(data=userActivity)\n",
        "YUsr = np.sort(pdfUsr[1])\n",
        "YUsrVals = np.arange(len(YUsr)) / float(len(YUsr))\n",
        "\n",
        "plt.semilogx(YUsr, YUsrVals, color='red')\n",
        "plt.xlabel('Play Counts')\n",
        "plt.ylabel('ECDF')\n",
        "plt.grid(True, which='both', ls=\"-\")\n",
        "plt.title('ECDF of number of play counts per user ID')\n",
        "plt.show()\n",
        "\n",
        "print('Sum = {}'.format(YUsr.sum()))\n",
        "print('Mean = {}'.format(YUsr.mean()))\n",
        "print('Max = {}'.format(YUsr.max()))\n",
        "print('Min = {}'.format(YUsr.min()))\n",
        "\n",
        "print('Percentile 25% = {}'.format(np.percentile(YUsr, 25)))\n",
        "print('Percentile 50% = {}'.format(np.percentile(YUsr, 50)))\n",
        "print('Percentile 75% = {}'.format(np.percentile(YUsr, 75)))\n",
        "print('Percentile 90% = {}'.format(np.percentile(YUsr, 90)))\n",
        "print('Percentile 95% = {}'.format(np.percentile(YUsr, 95)))\n",
        "print('Percentile 97% = {}'.format(np.percentile(YUsr, 97)))\n",
        "\n",
        "print('The percentage of users who listen less than 10 times P(YUsr<=10) = {:.3f}%'.format(len(YUsr[YUsr<=10])*100 / len(YUsr)))"
      ]
    },
    {
      "cell_type": "code",
      "execution_count": null,
      "metadata": {
        "id": "KrkLYZ0l6qMg"
      },
      "outputs": [],
      "source": [
        "artistPlayCount = userArtistDF.groupBy('artistID').sum('playCount').collect()"
      ]
    },
    {
      "cell_type": "code",
      "execution_count": null,
      "metadata": {
        "id": "Mfes8Uj3jxR_",
        "colab": {
          "base_uri": "https://localhost:8080/",
          "height": 542
        },
        "outputId": "23409383-536e-4109-9f65-8eaac2244955"
      },
      "outputs": [
        {
          "output_type": "display_data",
          "data": {
            "image/png": "[encoded data removed]",
            "text/plain": [
              "<Figure size 432x288 with 1 Axes>"
            ]
          },
          "metadata": {
            "needs_background": "light"
          }
        },
        {
          "output_type": "stream",
          "name": "stdout",
          "text": [
            "Sum = 371638969\n",
            "Mean = 227.85566464830768\n",
            "Max = 2502130\n",
            "Min = 1\n",
            "Percentile 25% = 1.0\n",
            "Percentile 50% = 3.0\n",
            "Percenrile 75% = 11.0\n",
            "Percentile 90% = 45.0\n",
            "Percentile 95% = 126.0\n",
            "The percentage of artists how are listened once P(YArt=1) = 32.185%\n",
            "The percentage of artists how are listened less than 1000 P(YArt<=1000) = 98.744%\n",
            "Top listened artits : \n",
            " [1425942 1542806 1930592 2259185 2502130]\n",
            "Top listened artists and their percentage = 2.599%\n"
          ]
        }
      ],
      "source": [
        "pdfArt = pd.DataFrame(data=artistPlayCount)\n",
        "YArt = np.sort(pdfArt[1])\n",
        "YArtVals = np.arange(len(YArt)) / float(len(YArt))\n",
        "\n",
        "plt.semilogx(YArt, YArtVals, color='green')\n",
        "plt.xlabel('playCount')\n",
        "plt.ylabel('ECDF')\n",
        "plt.grid(True, which='both', ls='-')\n",
        "plt.title('ECDF of number of play counts per artist ID')\n",
        "plt.show()\n",
        "\n",
        "print('Sum = {}'.format(YArt.sum()))\n",
        "print('Mean = {}'.format(YArt.mean()))\n",
        "print('Max = {}'.format(YArt.max()))\n",
        "print('Min = {}'.format(YArt.min()))\n",
        "\n",
        "print('Percentile 25% = {}'.format(np.percentile(YArt, 25)))\n",
        "print('Percentile 50% = {}'.format(np.percentile(YArt, 50)))\n",
        "print('Percenrile 75% = {}'.format(np.percentile(YArt, 75)))\n",
        "print('Percentile 90% = {}'.format(np.percentile(YArt, 90)))\n",
        "print('Percentile 95% = {}'.format(np.percentile(YArt, 95)))\n",
        "\n",
        "print('The percentage of artists how are listened once P(YArt=1) = {0:.3f}%'.format(100*len(YArt[YArt==1])/len(YArt)))\n",
        "print('The percentage of artists how are listened less than 1000 P(YArt<=1000) = {0:.3f}%'.format(100*len(YArt[YArt<=1000])/len(YArt)))\n",
        "print('Top listened artits : \\n', YArt[len(YArt)-5:])\n",
        "print('Top listened artists and their percentage = {0:.3f}%'.format(100*YArt[len(YArt)-5:].sum() / YArt.sum()))\n",
        "\n"
      ]
    },
    {
      "cell_type": "code",
      "execution_count": null,
      "metadata": {
        "id": "QxuEYvTfkFRk"
      },
      "outputs": [],
      "source": [
        "SortedArtist = sorted(artistPlayCount, key=lambda x : -x[-1])[:5]\n",
        "artistID = [ e[0] for e in SortedArtist]\n",
        "\n",
        "y_pos = range(len(SortedArtist))\n",
        "playCount = [ e[1] for e in SortedArtist]\n",
        "\n",
        "plt.barh(y_pos, playCount[::-1], color='red', align='center', alpha=0.5)\n",
        "plt.yticks(y_pos, artistID[::-1])\n",
        "plt.xlabel('Play Count')\n",
        "plt.ylabel('ArtistID')\n",
        "plt.title('Top 5 Artists')\n",
        "plt.show()"
      ]
    },
    {
      "cell_type": "code",
      "execution_count": null,
      "metadata": {
        "id": "sUhklaZYrYkp"
      },
      "outputs": [],
      "source": [
        "ArtistDataSchema = StructType([\n",
        "    StructField(\"artistID\", LongType(), True),\n",
        "    StructField(\"name\", StringType(), True)\n",
        "])\n",
        "\n",
        "ArtistDF = sqlContext.read.format('com.databricks.spark.csv').options(header='false', delimiter='\\t', mode='DROPMALFORMED').load(directory_path + 'artist_data.txt', schema=ArtistDataSchema).cache()"
      ]
    },
    {
      "cell_type": "code",
      "execution_count": null,
      "metadata": {
        "id": "_tGH4wcKr4wz"
      },
      "outputs": [],
      "source": [
        "ArtistDF.count()"
      ]
    },
    {
      "cell_type": "code",
      "execution_count": null,
      "metadata": {
        "id": "l4JA-z8Gyj4M",
        "colab": {
          "base_uri": "https://localhost:8080/"
        },
        "outputId": "eb549d5a-7864-4219-d82a-19cc580a3c99"
      },
      "outputs": [
        {
          "output_type": "stream",
          "name": "stdout",
          "text": [
            "+--------+--------------------+\n",
            "|artistID|                name|\n",
            "+--------+--------------------+\n",
            "| 1134999|        06Crazy Life|\n",
            "| 6821360|        Pang Nakarin|\n",
            "|10113088|Terfel, Bartoli- ...|\n",
            "|10151459| The Flaming Sidebur|\n",
            "| 6826647|   Bodenstandig 3000|\n",
            "|10186265|Jota Quest e Ivet...|\n",
            "| 6828986|       Toto_XX (1977|\n",
            "|10236364|         U.S Bombs -|\n",
            "| 1135000|artist formaly kn...|\n",
            "|10299728|Kassierer - Musik...|\n",
            "|10299744|         Rahzel, RZA|\n",
            "| 6864258|      Jon Richardson|\n",
            "| 6878791|Young Fresh Fello...|\n",
            "|10299751|          Ki-ya-Kiss|\n",
            "| 6909716|Underminded - The...|\n",
            "|10435121|             Kox-Box|\n",
            "| 6918061|  alexisonfire [wo!]|\n",
            "| 1135001|         dj salinger|\n",
            "| 6940391|The B52's - Chann...|\n",
            "|10475396|             44 Hoes|\n",
            "+--------+--------------------+\n",
            "only showing top 20 rows\n",
            "\n"
          ]
        }
      ],
      "source": [
        "ArtistDF.show()"
      ]
    },
    {
      "cell_type": "code",
      "execution_count": null,
      "metadata": {
        "id": "OctQvj6yvE3d"
      },
      "outputs": [],
      "source": [
        "ArtistDF[locate('aerosmith', ArtistDF.name)>0].show(20, False)\n",
        "#Some conflicts in names and IDs of artists"
      ]
    },
    {
      "cell_type": "code",
      "execution_count": null,
      "metadata": {
        "id": "8UVmDxFNz7pi"
      },
      "outputs": [],
      "source": [
        "aliasArtistDataSchema = StructType([\n",
        "    StructField(\"misspelledID\", LongType(), True),\n",
        "    StructField(\"standardID\", LongType(), True)\n",
        "])\n",
        "\n",
        "aliasArtistDF = sqlContext.read.format('com.databricks.spark.csv').options(header='false', delimiter='\\t', mode='DROPMALFORMED').load(directory_path + 'artist_alias.txt', schema=aliasArtistDataSchema).cache()"
      ]
    },
    {
      "cell_type": "code",
      "execution_count": null,
      "metadata": {
        "id": "RgJNm-odw1tI"
      },
      "outputs": [],
      "source": [
        "aliasArtist = aliasArtistDF.rdd.map(lambda row : (row.misspelledID, row.standardID)).collectAsMap()"
      ]
    },
    {
      "cell_type": "code",
      "execution_count": null,
      "metadata": {
        "id": "en3A9YD90VQf",
        "colab": {
          "base_uri": "https://localhost:8080/"
        },
        "outputId": "70f7893f-9889-40bf-96e7-4b0a18630c54"
      },
      "outputs": [
        {
          "output_type": "stream",
          "name": "stdout",
          "text": [
            "MisspelledIDs StandardIDs\n"
          ]
        },
        {
          "output_type": "execute_result",
          "data": {
            "text/plain": [
              "{1092764: 1000311,\n",
              " 1095122: 1000557,\n",
              " 6708070: 1007267,\n",
              " 10088054: 1042317,\n",
              " 1195917: 1042317,\n",
              " 1112006: 1000557,\n",
              " 1187350: 1294511,\n",
              " 1116694: 1327092,\n",
              " 6793225: 1042317,\n",
              " 1079959: 1000557,\n",
              " 6789612: 1000591,\n",
              " 1262241: 1000591,\n",
              " 6791455: 1000591,\n",
              " 6694867: 1000591,\n",
              " 10141141: 1113738,\n",
              " 1295140: 1000591,\n",
              " 1027859: 1252408,\n",
              " 2127019: 1000591,\n",
              " 2153974: 1000591,\n",
              " 1232342: 1000591,\n",
              " 6968887: 1252408,\n",
              " 1159841: 6826174,\n",
              " 1195492: 1327092,\n",
              " 7026209: 1246742,\n",
              " 2012022: 1001590,\n",
              " 1274042: 1327092,\n",
              " 1073626: 668,\n",
              " None: 1329310,\n",
              " 2038625: 1001646,\n",
              " 1026463: 1327652,\n",
              " 2039670: 1001646,\n",
              " 6798013: 1002414,\n",
              " 1069294: 1009335,\n",
              " 2056950: 1010728,\n",
              " 1003908: 1011075,\n",
              " 6607001: 1013391,\n",
              " 2051033: 1014131,\n",
              " 2136930: 1018491,\n",
              " 2040025: 1029792,\n",
              " 2123236: 1068687,\n",
              " 1017615: 668,\n",
              " 1037679: 1003105,\n",
              " 2056553: 1103336,\n",
              " 1182866: 1157715,\n",
              " 2080828: 1334990,\n",
              " 1235280: 1003468,\n",
              " 1182267: 1003468,\n",
              " 1029279: 1327810,\n",
              " 2177612: 1338247,\n",
              " 2023293: 1003468,\n",
              " 1036318: 1003468,\n",
              " 2116355: 1003468,\n",
              " 1080440: 1003468,\n",
              " 1202545: 1003681,\n",
              " 2086086: 1239865,\n",
              " 1024104: 1239865,\n",
              " 1232028: 1003681,\n",
              " 6771152: 1003681,\n",
              " 1264719: 1003681,\n",
              " 2050072: 606,\n",
              " 1043270: 1007064,\n",
              " 6645318: 2092231,\n",
              " 10398083: 1250233,\n",
              " 10363575: 1854,\n",
              " 10063743: 1018880,\n",
              " 9920551: 207,\n",
              " 10159017: 113,\n",
              " 1276298: 1338247,\n",
              " 9990266: 6785079,\n",
              " 2124635: 2034728,\n",
              " 1094739: 1239865,\n",
              " 2138437: 1338247,\n",
              " 1194484: 1003681,\n",
              " 6772396: 1004077,\n",
              " 10243262: 1001646,\n",
              " 10290866: 1001646,\n",
              " 10217227: 1001646,\n",
              " 6940672: 1235094,\n",
              " 10391082: 6603047,\n",
              " 10041642: 1235094,\n",
              " 10221131: 1001646,\n",
              " 10080909: 1235094,\n",
              " 10289466: 1001646,\n",
              " 1114033: 1348424,\n",
              " 1087440: 2002877,\n",
              " 1041365: 1256628,\n",
              " 2057052: 2002877,\n",
              " 1132169: 2009963,\n",
              " 1246477: 2012482,\n",
              " 10155945: 10170002,\n",
              " 2128606: 1259472,\n",
              " 1051303: 1259472,\n",
              " 2085833: 179,\n",
              " 1284626: 2012482,\n",
              " 6997121: 2038842,\n",
              " 1335235: 2111905,\n",
              " 1012331: 1259472,\n",
              " 6703911: 1259472,\n",
              " 2087787: 1000313,\n",
              " 6745885: 1268522,\n",
              " 1270720: 1000591,\n",
              " 6916264: 393,\n",
              " 1333039: 1261844,\n",
              " 1115126: 1015918,\n",
              " 6661085: 1015918,\n",
              " 1238989: 1000591,\n",
              " 2051851: 1000591,\n",
              " 6794968: 1000591,\n",
              " 2055818: 1000591,\n",
              " 6676117: 1000591,\n",
              " 1328996: 1000848,\n",
              " 10002652: 1000848,\n",
              " 2178287: 1000851,\n",
              " 2141406: 1000852,\n",
              " 6825811: 1000852,\n",
              " 1348034: 1000852,\n",
              " 1350870: 1000852,\n",
              " 1077960: 1000853,\n",
              " 1012640: 1000854,\n",
              " 1113206: 1000854,\n",
              " 1314067: 1000854,\n",
              " 1018573: 1000854,\n",
              " 1162647: 1000854,\n",
              " 1009215: 1000854,\n",
              " 2050819: 1000854,\n",
              " 9905581: 1000854,\n",
              " 6782667: 1000864,\n",
              " 6837768: 1000873,\n",
              " 2179263: 1000881,\n",
              " 1140490: 1000881,\n",
              " 2028971: 1000881,\n",
              " 2002779: 1000881,\n",
              " 1341375: 1000881,\n",
              " 1224676: 1000881,\n",
              " 1244509: 1000881,\n",
              " 1244510: 1000881,\n",
              " 1252507: 1073311,\n",
              " 6687871: 1073311,\n",
              " 10295067: 1187,\n",
              " 10042885: 1013851,\n",
              " 10152910: 1005113,\n",
              " 2163319: 1000881,\n",
              " 1244516: 1000881,\n",
              " 1019046: 1000881,\n",
              " 1320708: 1000881,\n",
              " 1320701: 1000881,\n",
              " 1067662: 2065119,\n",
              " 10152861: 1005113,\n",
              " 10152862: 1005113,\n",
              " 10080769: 1006332,\n",
              " 6822941: 1013656,\n",
              " 1064186: 1259472,\n",
              " 1171175: 1259472,\n",
              " 6726398: 1259522,\n",
              " 10121985: 4616,\n",
              " 1286771: 1259522,\n",
              " 6839688: 1000881,\n",
              " 1196878: 1000881,\n",
              " 6812161: 1000881,\n",
              " 1299554: 1000881,\n",
              " 2061078: 1259542,\n",
              " 1190708: 1259542,\n",
              " 7005777: 1259542,\n",
              " 1231148: 1259543,\n",
              " 2046451: 1259543,\n",
              " 7006212: 1259543,\n",
              " 6794799: 1259543,\n",
              " 1173046: 1259555,\n",
              " 1110422: 1259585,\n",
              " 1027008: 1259585,\n",
              " 6780111: 1259585,\n",
              " 1060023: 1259585,\n",
              " 1035359: 1259585,\n",
              " 2136225: 1259657,\n",
              " 1257849: 1000881,\n",
              " 1084087: 1000881,\n",
              " 1294772: 1000881,\n",
              " 2146813: 1000881,\n",
              " 2146800: 1000881,\n",
              " 1093242: 1259657,\n",
              " 1233281: 1000881,\n",
              " 2147144: 1000881,\n",
              " 2056710: 1000881,\n",
              " 2041970: 1000881,\n",
              " 2024234: 1000952,\n",
              " 1339462: 1259680,\n",
              " 1114779: 1000998,\n",
              " 1022950: 1259680,\n",
              " 6957131: 1259688,\n",
              " 1008917: 1259737,\n",
              " 6813421: 1259770,\n",
              " 6655790: 1259775,\n",
              " 1024636: 1259830,\n",
              " 1052475: 1259897,\n",
              " 9947022: 1259920,\n",
              " 1094527: 1259979,\n",
              " 10109389: 1247272,\n",
              " 2055144: 1000251,\n",
              " 1199012: 6730414,\n",
              " 1331576: 1000251,\n",
              " 2177084: 6799498,\n",
              " 1154717: 1000251,\n",
              " 1341142: 1000251,\n",
              " 1341173: 1000251,\n",
              " 10015397: 1019469,\n",
              " 10015093: 1019469,\n",
              " 2118053: 1261844,\n",
              " 1154098: 1000251,\n",
              " 2008951: 1000591,\n",
              " 6679702: 1000591,\n",
              " 6682384: 1000591,\n",
              " 1330318: 1000591,\n",
              " 6646693: 1000591,\n",
              " 1290058: 1000591,\n",
              " 1274776: 1000591,\n",
              " 1234868: 1000591,\n",
              " 2146478: 1000591,\n",
              " 1285988: 1000591,\n",
              " 6671209: 1000591,\n",
              " 1234869: 1000591,\n",
              " 2069883: 1025718,\n",
              " 1123861: 1000982,\n",
              " 1244077: 1001332,\n",
              " 6807139: 1026251,\n",
              " 2096903: 1027439,\n",
              " 6818331: 1035181,\n",
              " 1040556: 1053274,\n",
              " 2069516: 3656,\n",
              " 1283451: 1246242,\n",
              " 1049019: 1246242,\n",
              " 1291500: 1246260,\n",
              " 1273947: 1246260,\n",
              " 6716775: 1246260,\n",
              " 6766491: 1246286,\n",
              " 6771721: 1246286,\n",
              " 1064736: 1246295,\n",
              " 1082061: 1246313,\n",
              " 1268257: 1246335,\n",
              " 1053030: 1246339,\n",
              " 1131948: 1246367,\n",
              " 6709794: 1246457,\n",
              " 2121370: 1246464,\n",
              " 1008429: 1246464,\n",
              " 1095064: 1246464,\n",
              " 2127046: 1246464,\n",
              " 6815082: 1246464,\n",
              " 6800593: 4224,\n",
              " 2040851: 1001531,\n",
              " 1028799: 1246464,\n",
              " 2175040: 1246478,\n",
              " 2022287: 1246515,\n",
              " 1003916: 1246524,\n",
              " 6854601: 1246573,\n",
              " 1231591: 1246573,\n",
              " 1301894: 1001531,\n",
              " 1150309: 1246573,\n",
              " 1078280: 4616,\n",
              " 2048508: 1261844,\n",
              " 1319351: 1001531,\n",
              " 1234864: 1001531,\n",
              " 1341939: 1001531,\n",
              " 2070831: 1001531,\n",
              " 10142352: 6616477,\n",
              " 6854385: 1246573,\n",
              " 2076669: 1246573,\n",
              " 1296857: 1001531,\n",
              " 2081927: 1001531,\n",
              " 2041091: 1246573,\n",
              " 1084438: 1246573,\n",
              " 2150205: 1246573,\n",
              " 6634975: 1246573,\n",
              " 6603887: 1246573,\n",
              " 1070123: 1246573,\n",
              " 2130939: 1246573,\n",
              " 1307459: 1246573,\n",
              " 1246991: 1246573,\n",
              " 1115465: 1246573,\n",
              " 6829508: 1246573,\n",
              " 2017286: 1246645,\n",
              " 1011347: 1246667,\n",
              " 1254204: 1246667,\n",
              " 1011637: 1246667,\n",
              " 1342313: 1246667,\n",
              " 1289286: 1246667,\n",
              " 1312177: 1246667,\n",
              " 2120130: 1246667,\n",
              " 2050737: 1246667,\n",
              " 1092553: 1246667,\n",
              " 6690326: 1246667,\n",
              " 6687238: 1246667,\n",
              " 6712462: 1246667,\n",
              " 6736140: 6803104,\n",
              " 1244076: 1001332,\n",
              " 6696485: 1004077,\n",
              " 6966563: 1004077,\n",
              " 6968298: 1004077,\n",
              " 6968299: 1004077,\n",
              " 6968300: 1004077,\n",
              " 6781151: 1261844,\n",
              " 1029577: 393,\n",
              " 1082404: 393,\n",
              " 1161810: 1015636,\n",
              " 6968301: 1004077,\n",
              " 6968302: 1004077,\n",
              " 6968303: 1004077,\n",
              " 1032290: 2116511,\n",
              " 6968305: 1004077,\n",
              " 6968304: 1004077,\n",
              " 1007691: 6834637,\n",
              " 7014302: 1004077,\n",
              " 7007381: 1004077,\n",
              " 6774632: 1004077,\n",
              " 2049735: 1004077,\n",
              " 1263279: 1004077,\n",
              " 7005125: 1004077,\n",
              " 7033969: 1004077,\n",
              " 9923298: 1004077,\n",
              " 9938537: 1004077,\n",
              " 7017743: 1004077,\n",
              " 7019658: 1004077,\n",
              " 9930706: 1004077,\n",
              " 7027898: 1004077,\n",
              " 1108268: 1004077,\n",
              " 10003254: 1004077,\n",
              " 10003494: 1004077,\n",
              " 10056170: 1004077,\n",
              " 2077861: 1004079,\n",
              " 1183424: 1004079,\n",
              " 6656142: 1004079,\n",
              " 6980410: 1004079,\n",
              " 6852165: 1004079,\n",
              " 6945813: 1004079,\n",
              " 6945808: 1004079,\n",
              " 6945805: 1004079,\n",
              " 7013176: 1247965,\n",
              " 1278787: 1015636,\n",
              " 1318459: 6851474,\n",
              " 1319828: 1004079,\n",
              " 9963069: 1207061,\n",
              " 6954049: 1004079,\n",
              " 1206698: 1004079,\n",
              " 6792928: 1004347,\n",
              " 1206699: 1004079,\n",
              " 1202250: 1004079,\n",
              " 6954238: 1004079,\n",
              " 1123836: 1004079,\n",
              " 6679116: 1004079,\n",
              " 2036934: 1261844,\n",
              " 10141176: 6624545,\n",
              " 9937609: 946,\n",
              " 6856885: 2089810,\n",
              " 6963827: 1004079,\n",
              " 6957908: 1004079,\n",
              " 6801220: 1004079,\n",
              " 6938430: 1004079,\n",
              " 6938595: 1004079,\n",
              " 6975467: 1004079,\n",
              " 6949788: 1004079,\n",
              " 6967951: 1004079,\n",
              " 1128050: 1004079,\n",
              " 6654427: 1004079,\n",
              " 6916305: 1004079,\n",
              " 6772380: 1004079,\n",
              " 6965596: 1004079,\n",
              " 6967593: 1004079,\n",
              " 6986154: 1004079,\n",
              " 6859682: 1004079,\n",
              " 6975365: 1004079,\n",
              " 1123267: 1004079,\n",
              " 10282765: 1012077,\n",
              " 6889654: 1244705,\n",
              " 2077269: 1004079,\n",
              " 1283735: 1004079,\n",
              " 1002140: 1005820,\n",
              " 2140527: 1018340,\n",
              " 1000434: 1000518,\n",
              " 6762782: 1004997,\n",
              " 1109257: 1004258,\n",
              " 1077914: 1029830,\n",
              " 1323045: 1052430,\n",
              " 1303926: 1063336,\n",
              " 2139271: 1241121,\n",
              " 10316551: 10316488,\n",
              " 1004454: 1192,\n",
              " 2056107: 1330799,\n",
              " 1111178: 5810,\n",
              " 1024538: 1000024,\n",
              " 1006210: 1000024,\n",
              " 1200827: 1171610,\n",
              " 1231770: 1247965,\n",
              " 1090568: 6851474,\n",
              " 1040363: 1009552,\n",
              " 1021157: 1000024,\n",
              " 1013626: 1000024,\n",
              " 1237681: 1000052,\n",
              " 1298300: 1000052,\n",
              " 2000424: 1000088,\n",
              " 2280040: 1000130,\n",
              " 2057845: 1271285,\n",
              " 2134073: 1000130,\n",
              " 1174508: 1000130,\n",
              " 6724910: 1007603,\n",
              " 1006018: 1008663,\n",
              " 1158318: 1051674,\n",
              " 1286983: 1000183,\n",
              " 6726315: 1011982,\n",
              " 1076714: 1014205,\n",
              " 5669: 1000260,\n",
              " 6774820: 1014421,\n",
              " 1257973: 1014421,\n",
              " 6701515: 1017893,\n",
              " 1238673: 1000322,\n",
              " 1312295: 1000724,\n",
              " 6816609: 1036277,\n",
              " 7011017: 7034181,\n",
              " 10284937: 1250079,\n",
              " 6940925: 6983177,\n",
              " 1191230: 1005313,\n",
              " 1130192: 1126021,\n",
              " 1256979: 1160601,\n",
              " 1007065: 1233196,\n",
              " 6869619: 1233770,\n",
              " 877: 1000724,\n",
              " 1344750: 1000881,\n",
              " 9921439: 1004028,\n",
              " 10026910: 1233770,\n",
              " 10207926: 831,\n",
              " 6816717: 1233770,\n",
              " 6749524: 1233770,\n",
              " 9933944: 1233770,\n",
              " 1263214: 1000881,\n",
              " 1270405: 1000881,\n",
              " 1330794: 1000881,\n",
              " 2013103: 1000881,\n",
              " 10316646: 10316280,\n",
              " 10041743: 1233770,\n",
              " 6733560: 2113324,\n",
              " 9923828: 1001383,\n",
              " 1119240: 1000881,\n",
              " 1150825: 1000881,\n",
              " 10044408: 1233770,\n",
              " 10104044: 831,\n",
              " 2107118: 1001295,\n",
              " 6902409: 1233770,\n",
              " 10099825: 1233770,\n",
              " 10112450: 1233770,\n",
              " 1260208: 1233781,\n",
              " 6706629: 1000881,\n",
              " 2163030: 1000881,\n",
              " 1132547: 1000881,\n",
              " 6687806: 1233781,\n",
              " 6710070: 1301078,\n",
              " 6685488: 2041516,\n",
              " 9929173: 1003328,\n",
              " 6801849: 1258184,\n",
              " 6808753: 1000881,\n",
              " 6605062: 1000881,\n",
              " 6835497: 1233781,\n",
              " 2131635: 1000881,\n",
              " 6797534: 1233781,\n",
              " 1067675: 1000881,\n",
              " 2027712: 1233781,\n",
              " 9952467: 1176336,\n",
              " 2166889: 1233781,\n",
              " 1316314: 1000881,\n",
              " 2104543: 6702252,\n",
              " 2011638: 6702252,\n",
              " 1164550: 1233781,\n",
              " 2102126: 1000881,\n",
              " 1314213: 1000881,\n",
              " 1342237: 1000881,\n",
              " 1317648: 1000881,\n",
              " 6604336: 1000881,\n",
              " 1117379: 1233781,\n",
              " 6948572: 1233781,\n",
              " 10311207: 10188444,\n",
              " 6860995: 1233781,\n",
              " 10150015: 6802428,\n",
              " 2117545: 6654774,\n",
              " 10011976: 10156505,\n",
              " 2072905: 1349423,\n",
              " 1155312: 1247965,\n",
              " 6998956: 2011821,\n",
              " 1294782: 1000881,\n",
              " 10096588: 1012957,\n",
              " 1205082: 1000881,\n",
              " 1172453: 2075438,\n",
              " 1215027: 1000881,\n",
              " 6696584: 1000881,\n",
              " 6705584: 1000881,\n",
              " 6706626: 1000881,\n",
              " 6706627: 1000881,\n",
              " 6706631: 1000881,\n",
              " 6706632: 1000881,\n",
              " 6706633: 1000881,\n",
              " 7023776: 2011821,\n",
              " 6706635: 1000881,\n",
              " 10048635: 1063056,\n",
              " 6711643: 1000881,\n",
              " 6711659: 1000881,\n",
              " 6623938: 1000881,\n",
              " 1293881: 1000881,\n",
              " 2004338: 1000881,\n",
              " 2064788: 1000881,\n",
              " 1002230: 1000881,\n",
              " 1285820: 1000881,\n",
              " 1303292: 1000881,\n",
              " 6604670: 1000881,\n",
              " 7005077: 6902376,\n",
              " 1284537: 1000881,\n",
              " 1003706: 1000881,\n",
              " 2037454: 1000881,\n",
              " 9935150: 2075438,\n",
              " 6918101: 2075438,\n",
              " 2170401: 1007187,\n",
              " 6622617: 1000881,\n",
              " 6766519: 1000881,\n",
              " 9957904: 1018746,\n",
              " 6762231: 1000881,\n",
              " 6762241: 1000881,\n",
              " 6764501: 1000881,\n",
              " 6766507: 1000881,\n",
              " 6762220: 1000881,\n",
              " 6748093: 1000881,\n",
              " 6788591: 1000881,\n",
              " 1270029: 1000881,\n",
              " 2009870: 1000881,\n",
              " 1235279: 1000881,\n",
              " 1294779: 1000881,\n",
              " 1294786: 1000881,\n",
              " 2147117: 1000881,\n",
              " 2151602: 1000881,\n",
              " 6706634: 1000881,\n",
              " 6844715: 1000881,\n",
              " 6706630: 1000881,\n",
              " 2054260: 1000881,\n",
              " 1306990: 1000881,\n",
              " 2072836: 1000881,\n",
              " 6803817: 1000881,\n",
              " 2163679: 1000881,\n",
              " 1279073: 1000881,\n",
              " 1180322: 1000881,\n",
              " 6658009: 1000881,\n",
              " 6733412: 1000881,\n",
              " 1300715: 1000881,\n",
              " 1187127: 1000881,\n",
              " 2167105: 1000881,\n",
              " 6802407: 1000881,\n",
              " 6835976: 1000881,\n",
              " 2031976: 1000881,\n",
              " 1301361: 1000881,\n",
              " 6804695: 1000881,\n",
              " 1287784: 1000881,\n",
              " 1287790: 1000881,\n",
              " 6827011: 1000881,\n",
              " 1279372: 1000881,\n",
              " 6716910: 1000881,\n",
              " 6710334: 1000881,\n",
              " 6839113: 1000881,\n",
              " 6840547: 1000881,\n",
              " 6729377: 1000881,\n",
              " 1184070: 1000881,\n",
              " 6685777: 1000881,\n",
              " 6686349: 1000881,\n",
              " 6752342: 1000881,\n",
              " 1000194: 1030216,\n",
              " 6958414: 6914803,\n",
              " 6791991: 6621504,\n",
              " 10157846: 1310040,\n",
              " 10033132: 1000710,\n",
              " 2157919: 5810,\n",
              " 1289109: 5810,\n",
              " 1342673: 1000724,\n",
              " 6737202: 1000881,\n",
              " 1249999: 1000881,\n",
              " 1182811: 1000881,\n",
              " 6660467: 1000881,\n",
              " 6759912: 1000881,\n",
              " 2177273: 1000881,\n",
              " 6616144: 1000881,\n",
              " 6616132: 1000881,\n",
              " 2081739: 1000881,\n",
              " 2053458: 1000881,\n",
              " 6610087: 1000881,\n",
              " 1263266: 1000881,\n",
              " 6616657: 1000881,\n",
              " 6660481: 1000881,\n",
              " 6911268: 6686086,\n",
              " 6631980: 1000881,\n",
              " 6636349: 1000881,\n",
              " 1341081: 1000881,\n",
              " 6758038: 1000881,\n",
              " 1341829: 1000881,\n",
              " 2004129: 1000881,\n",
              " 6758025: 1000881,\n",
              " 1256045: 1000881,\n",
              " 1253887: 1000881,\n",
              " 2093252: 1000881,\n",
              " 6616134: 1000881,\n",
              " 6990982: 1000881,\n",
              " 6900916: 1000881,\n",
              " 6715274: 1000881,\n",
              " 6693345: 1000881,\n",
              " 6984064: 1000881,\n",
              " 6821618: 6738682,\n",
              " 6909815: 1000881,\n",
              " 2070312: 1000881,\n",
              " 9986723: 1000881,\n",
              " 7002213: 1000881,\n",
              " 7002224: 1000881,\n",
              " 9991782: 1671,\n",
              " 7002243: 1000881,\n",
              " 7002254: 1000881,\n",
              " 7002260: 1000881,\n",
              " 9925501: 1000881,\n",
              " 6659765: 1339242,\n",
              " 1257720: 1260761,\n",
              " 10043506: 6788742,\n",
              " 9963862: 1000881,\n",
              " 9914941: 1000881,\n",
              " 9977010: 1000881,\n",
              " 1170764: 1000881,\n",
              " 6887005: 1000881,\n",
              " 1263051: 1000881,\n",
              " 1317098: 1000881,\n",
              " 6663802: 6728332,\n",
              " 10377763: 1012342,\n",
              " 10378450: 1012342,\n",
              " 1245190: 1233107,\n",
              " 10316685: 10316280,\n",
              " 1303159: 1000881,\n",
              " 1289383: 1000881,\n",
              " 1260490: 1000881,\n",
              " 6810877: 1000881,\n",
              " 1325888: 1000881,\n",
              " 6754359: 6728332,\n",
              " 10251505: 1044504,\n",
              " 2090995: 137,\n",
              " 2049082: 1000881,\n",
              " 1317117: 1000881,\n",
              " 2001334: 1014421,\n",
              " 2041068: 1014421,\n",
              " 2027388: 1014421,\n",
              " 6622722: 1017285,\n",
              " 6651257: 1017285,\n",
              " 6651274: 1017285,\n",
              " 6651351: 1017285,\n",
              " 2070346: 1025306,\n",
              " 2070368: 1025306,\n",
              " 10088675: 1051729,\n",
              " 9937496: 1239458,\n",
              " 9937390: 1013167,\n",
              " 9929618: 1274,\n",
              " 10367378: 1000416,\n",
              " 7006128: 10156505,\n",
              " 6987302: 2104671,\n",
              " 10127235: 1236708,\n",
              " 10226007: 1266483,\n",
              " 6726033: 1037434,\n",
              " 7027095: 6632844,\n",
              " 6606819: 1671,\n",
              " 9968956: 2136829,\n",
              " 10084010: 1246524,\n",
              " 9965817: 1236933,\n",
              " 6953121: 6795792,\n",
              " 1020873: 10038262,\n",
              " 1125177: 1005820,\n",
              " 1124488: 1005820,\n",
              " 1134197: 1005820,\n",
              " 1288766: 1005820,\n",
              " 2054864: 2173459,\n",
              " 6798564: 1304731,\n",
              " 2137437: 1186387,\n",
              " 1189328: 1010124,\n",
              " 1168246: 2037751,\n",
              " 10142758: 1069210,\n",
              " 10316717: 10316280,\n",
              " 6649906: 1000009,\n",
              " 6692311: 1000009,\n",
              " 6775098: 1000009,\n",
              " 1220691: 1000052,\n",
              " 1057946: 1018768,\n",
              " 2157151: 1025306,\n",
              " 6834006: 1025306,\n",
              " 2088535: 1025306,\n",
              " 2070118: 1025306,\n",
              " 2070256: 1025306,\n",
              " 2070265: 1025306,\n",
              " 2070282: 1025306,\n",
              " 2070297: 1025306,\n",
              " 2070315: 1025306,\n",
              " 2070330: 1025306,\n",
              " 6831456: 1025306,\n",
              " 6648848: 1025306,\n",
              " 6720112: 1025306,\n",
              " 6720123: 1025306,\n",
              " 6720130: 1025306,\n",
              " 6720138: 1025306,\n",
              " 1228004: 1000139,\n",
              " 1160437: 1000260,\n",
              " 6720145: 1025306,\n",
              " 6720153: 1025306,\n",
              " 6948705: 1233781,\n",
              " 9993341: 1233781,\n",
              " 9967846: 1233781,\n",
              " 9927815: 1233781,\n",
              " 9993321: 1233781,\n",
              " 9993340: 1233781,\n",
              " 9950929: 1233781,\n",
              " 10018484: 1233781,\n",
              " 10018578: 1233781,\n",
              " 10040719: 1233781,\n",
              " 6835982: 1233782,\n",
              " 6612108: 1233782,\n",
              " 1341010: 1000881,\n",
              " 1289346: 1000881,\n",
              " 1271118: 1000881,\n",
              " 1260371: 1233782,\n",
              " 6891706: 1000881,\n",
              " 1093025: 1000881,\n",
              " 1261315: 1000881,\n",
              " 2162694: 1000881,\n",
              " 1085956: 1000881,\n",
              " 1284015: 1000881,\n",
              " 2030166: 1000881,\n",
              " 2072689: 1000881,\n",
              " 2155482: 1233782,\n",
              " 2155477: 1233782,\n",
              " 2155470: 1233782,\n",
              " 1230782: 1000885,\n",
              " 6826291: 1000889,\n",
              " 6780266: 1000889,\n",
              " 6763253: 1000889,\n",
              " 6826274: 1000889,\n",
              " 6826809: 1000889,\n",
              " 6828309: 1000889,\n",
              " 2155462: 1233782,\n",
              " 6689676: 1000889,\n",
              " 1152800: 1000889,\n",
              " 2010187: 1000889,\n",
              " 10043908: 1008023,\n",
              " 1233783: 1233782,\n",
              " 6781794: 1000889,\n",
              " 6725055: 1000889,\n",
              " 6756663: 1000889,\n",
              " 1190082: 1000889,\n",
              " 1162522: 1000889,\n",
              " 1159741: 1000889,\n",
              " 6777500: 1000889,\n",
              " 1215582: 1000889,\n",
              " 6895295: 1233782,\n",
              " 2125288: 2121916,\n",
              " 1011498: 1000454,\n",
              " 6655954: 1000597,\n",
              " 1033122: 1000889,\n",
              " 1215860: 1000889,\n",
              " 1033533: 1000889,\n",
              " 1280572: 1000889,\n",
              " 6755486: 6716961,\n",
              " 10054283: 1018746,\n",
              " 10054316: 1018746,\n",
              " 10054294: 1018746,\n",
              " 1205680: 6633145,\n",
              " 1332528: 1000889,\n",
              " 2050003: 1320143,\n",
              " 1332496: 1000889,\n",
              " 10054377: 1018746,\n",
              " 10054334: 1018746,\n",
              " 1336407: 1000889,\n",
              " 7015076: 930,\n",
              " 6607678: 1351791,\n",
              " 1020734: 1247272,\n",
              " 6690357: 4100,\n",
              " 1336355: 1000889,\n",
              " 1260597: 2078928,\n",
              " 2001411: 6633145,\n",
              " 1060878: 1009193,\n",
              " 1336337: 1000889,\n",
              " 1336326: 1000889,\n",
              " 1279274: 1000889,\n",
              " 2037407: 1000889,\n",
              " 1048431: 1000889,\n",
              " 2075300: 1000889,\n",
              " 2075370: 1000889,\n",
              " 2145304: 1000889,\n",
              " 1237282: 1000889,\n",
              " 2079952: 1000889,\n",
              " 2083563: 1000889,\n",
              " 2103743: 1000889,\n",
              " 6734756: 1000889,\n",
              " 2138747: 1000889,\n",
              " 1311583: 1000889,\n",
              " 1073630: 1018272,\n",
              " 1279566: 1000889,\n",
              " 6720117: 1025306,\n",
              " 6763827: 1000889,\n",
              " 1196913: 1025306,\n",
              " 6842277: 1034019,\n",
              " 9985904: 1000892,\n",
              " 1337085: 1000894,\n",
              " 1003800: 1000894,\n",
              " 2104436: 1000894,\n",
              " 1230513: 1000896,\n",
              " 6780502: 2075438,\n",
              " 1337245: 1038059,\n",
              " 6638764: 1233317,\n",
              " 1043963: 2075438,\n",
              " 1172626: 1000897,\n",
              " 2140106: 1000897,\n",
              " 6993697: 1233782,\n",
              " 6993487: 1233782,\n",
              " 9943680: 1233782,\n",
              " 6765374: 1000897,\n",
              " 1083751: 1000897,\n",
              " 10002265: 1000897,\n",
              " 1042350: 1000897,\n",
              " 6737666: 1000897,\n",
              " 7036932: 1000897,\n",
              " 9967381: 1000897,\n",
              " 6749300: 1000898,\n",
              " 2078326: 1000899,\n",
              " 1143733: 1000899,\n",
              " 1162891: 1000899,\n",
              " 6628307: 1000899,\n",
              " 6882031: 1000899,\n",
              " 6882196: 1000899,\n",
              " 6638905: 1000899,\n",
              " 1106836: 1000899,\n",
              " 1143742: 1000899,\n",
              " 1161522: 1000899,\n",
              " 1016542: 1000899,\n",
              " 1041173: 1000899,\n",
              " 1303567: 1000899,\n",
              " 6737467: 1000899,\n",
              " 1143698: 1000899,\n",
              " 2117757: 1000899,\n",
              " 1303546: 1000899,\n",
              " 1131952: 1000899,\n",
              " 6646387: 1000899,\n",
              " 1151414: 1000899,\n",
              " 1081492: 1000899,\n",
              " 1061419: 1000899,\n",
              " 1050693: 1000899,\n",
              " 1157423: 1000899,\n",
              " 6629565: 1233921,\n",
              " 1025282: 1233929,\n",
              " 2079068: 1000899,\n",
              " 2079321: 1000899,\n",
              " 7015096: 1233930,\n",
              " 1187841: 1233930,\n",
              " 2165327: 1233930,\n",
              " 1143704: 1000899,\n",
              " 1143712: 1000899,\n",
              " 1143752: 1000899,\n",
              " 1002701: 1001048,\n",
              " 6993611: 1046450,\n",
              " 6679058: 1009786,\n",
              " 6844774: 1011815,\n",
              " 1023076: 1011815,\n",
              " 1107120: 1290904,\n",
              " 1289133: 1013332,\n",
              " 6826993: 5810,\n",
              " 1308868: 1014421,\n",
              " 1048900: 1290904,\n",
              " 6610253: 1014850,\n",
              " 6855000: 1014931,\n",
              " 1084686: 1290904,\n",
              " 1297968: 1290904,\n",
              " 1084608: 5810,\n",
              " 1202412: 2139439,\n",
              " 6747016: 2163796,\n",
              " 2141519: 1018768,\n",
              " 6755160: 6811403,\n",
              " 2140376: 1001129,\n",
              " 10235656: 1003988,\n",
              " 6893480: 1003988,\n",
              " 10109769: 1311946,\n",
              " 1157452: 1029405,\n",
              " 1048721: 1029405,\n",
              " 1037297: 1029405,\n",
              " 2023506: 1095312,\n",
              " 1098622: 1152701,\n",
              " 2123775: 1259455,\n",
              " 1107214: 5810,\n",
              " 1027135: 1671,\n",
              " 1084617: 5810,\n",
              " 1084599: 5810,\n",
              " 2122397: 5810,\n",
              " 1079411: 1000009,\n",
              " 2015066: 1236348,\n",
              " 6675848: 1237790,\n",
              " 1258331: 1239865,\n",
              " 6785895: 1312967,\n",
              " 1033604: 1247801,\n",
              " 1213306: 1000009,\n",
              " 6780951: 1000009,\n",
              " 1045252: 1000009,\n",
              " 6686818: 1000009,\n",
              " 6653649: 1000009,\n",
              " 1300916: 1131858,\n",
              " 6816357: 2075438,\n",
              " 6688562: 1000009,\n",
              " 6701721: 1000009,\n",
              " 6634437: 1255050,\n",
              " 6697178: 1256375,\n",
              " 6742483: 1256375,\n",
              " 2032313: 2075438,\n",
              " 6776625: 1224964,\n",
              " 2032312: 2075438,\n",
              " 1132409: 1235111,\n",
              " 1132400: 1235111,\n",
              " 1335557: 2136820,\n",
              " 6781674: 1000009,\n",
              " 6760146: 1000009,\n",
              " 6775082: 1000009,\n",
              " 6780181: 1000009,\n",
              " 9941325: 6683418,\n",
              " 6664204: 1256375,\n",
              " 6739431: 1256375,\n",
              " 6656521: 1256375,\n",
              " 1143738: 1000899,\n",
              " 1143726: 1000899,\n",
              " 1143721: 1000899,\n",
              " 1143723: 1000899,\n",
              " 1303561: 1000899,\n",
              " 1081498: 1000899,\n",
              " 1081478: 1000899,\n",
              " 2046135: 1256375,\n",
              " 2045101: 1256375,\n",
              " 2040219: 1256375,\n",
              " 2035465: 1256375,\n",
              " 1018777: 1256375,\n",
              " 2107826: 1256375,\n",
              " 6855597: 1256375,\n",
              " 1296875: 1256375,\n",
              " 6809009: 1256375,\n",
              " 1076066: 1256375,\n",
              " 1110952: 1256375,\n",
              " 2071818: 1256375,\n",
              " 1076070: 1256375,\n",
              " 2039609: 1256375,\n",
              " 1050280: 1004341,\n",
              " 2519: 1127168,\n",
              " 1313748: 1127168,\n",
              " 10054392: 1018746,\n",
              " 2043447: 1256375,\n",
              " 2045090: 1256375,\n",
              " 2045115: 1256375,\n",
              " 2059766: 1256375,\n",
              " 10155360: 1000052,\n",
              " 1126797: 1014520,\n",
              " 1029053: 1026854,\n",
              " 1117501: 5360,\n",
              " 1247618: 1811,\n",
              " 6770988: 2075438,\n",
              " 7009258: 2162215,\n",
              " 6627439: 833,\n",
              " 10372144: 4209,\n",
              " 1003219: 1033759,\n",
              " 1344421: 1038467,\n",
              " 6878017: 1054286,\n",
              " 6758244: 1069118,\n",
              " 1035481: 1091070,\n",
              " 1324257: 1129446,\n",
              " 10316747: 10316280,\n",
              " 10037753: 1097172,\n",
              " 10351889: 4209,\n",
              " 1155300: 1155294,\n",
              " 2016682: 1164286,\n",
              " 1341828: 1190188,\n",
              " 10191850: 1001523,\n",
              " 1007600: 1236823,\n",
              " 2066185: 1236823,\n",
              " 10332180: 4209,\n",
              " 6677575: 1236823,\n",
              " 6762980: 1236823,\n",
              " 6829371: 5657,\n",
              " 1126034: 1236823,\n",
              " 1034678: 1237925,\n",
              " 108: 1239457,\n",
              " 2129023: 1246667,\n",
              " 2068501: 1246667,\n",
              " 1009787: 1246709,\n",
              " 1039798: 1246709,\n",
              " 1046463: 1246719,\n",
              " 6904290: 1246719,\n",
              " 10292406: 1310896,\n",
              " 2167786: 1311946,\n",
              " 1260123: 1000009,\n",
              " 1009686: 1246731,\n",
              " 6770486: 1000009,\n",
              " 2068162: 1000009,\n",
              " 6779549: 1000009,\n",
              " 6775091: 1000009,\n",
              " 6792125: 1000009,\n",
              " 2073445: 1000009,\n",
              " 2053763: 1000009,\n",
              " 1079424: 1000009,\n",
              " 10165021: 1235094,\n",
              " 6857613: 1246740,\n",
              " ...}"
            ]
          },
          "metadata": {},
          "execution_count": 28
        }
      ],
      "source": [
        "print(\"MisspelledIDs StandardIDs\")\n",
        "aliasArtist"
      ]
    },
    {
      "cell_type": "code",
      "execution_count": null,
      "metadata": {
        "id": "akw9Ym6A0WfP"
      },
      "outputs": [],
      "source": [
        "from time import time\n",
        "\n",
        "aliasArtist2 = sc.broadcast(aliasArtist)\n",
        "\n",
        "def replaceMisspelledIDs(fields):\n",
        "  standardID = aliasArtist2.value.get(fields[1], fields[1])\n",
        "  return (fields[0], standardID, fields[2])\n",
        "\n",
        "t0 = time()\n",
        "\n",
        "updatedUserArtistDF = sqlContext.createDataFrame(userArtistDF.rdd.map(replaceMisspelledIDs, userArtistDataSchema))\n",
        "updatedUserArtistDF.show()\n",
        "\n",
        "tf = time()\n",
        "\n",
        "print('The script takes {}s for execution'.format(tf-t0))\n",
        "\n",
        "updatedUserArtistDF = updatedUserArtistDF.cache()"
      ]
    },
    {
      "cell_type": "code",
      "execution_count": null,
      "metadata": {
        "id": "AuLikpNL-n0c"
      },
      "outputs": [],
      "source": [
        "updatedUserArtistDF = updatedUserArtistDF.withColumnRenamed('_1', 'userID').withColumnRenamed('_2', 'artistID').withColumnRenamed('_3', 'playcount')"
      ]
    },
    {
      "cell_type": "code",
      "execution_count": null,
      "metadata": {
        "colab": {
          "background_save": true
        },
        "id": "rwpQSW-h-zWe",
        "outputId": "4e0c3f32-cf88-4bda-d449-7b960afe6719"
      },
      "outputs": [
        {
          "name": "stdout",
          "output_type": "stream",
          "text": [
            "+-------+--------+---------+\n",
            "| userID|artistID|playcount|\n",
            "+-------+--------+---------+\n",
            "|1000002|       1|       55|\n",
            "|1000002| 1000006|       33|\n",
            "|1000002| 1000007|        8|\n",
            "|1000002| 1000009|      144|\n",
            "|1000002| 1000010|      314|\n",
            "|1000002| 1000013|        8|\n",
            "|1000002| 1000014|       42|\n",
            "|1000002| 1000017|       69|\n",
            "|1000002| 1000024|      329|\n",
            "|1000002| 1000025|        1|\n",
            "|1000002| 1000028|       17|\n",
            "|1000002| 1000031|       47|\n",
            "|1000002| 1000033|       15|\n",
            "|1000002| 1000042|        1|\n",
            "|1000002| 1000045|        1|\n",
            "|1000002| 1000054|        2|\n",
            "|1000002| 1000055|       25|\n",
            "|1000002| 1000056|        4|\n",
            "|1000002| 1000059|        2|\n",
            "|1000002| 1000062|       71|\n",
            "+-------+--------+---------+\n",
            "only showing top 20 rows\n",
            "\n"
          ]
        }
      ],
      "source": [
        "updatedUserArtistDF.show()"
      ]
    },
    {
      "cell_type": "code",
      "execution_count": null,
      "metadata": {
        "colab": {
          "background_save": true
        },
        "id": "_HDqddZcGeet",
        "outputId": "62e46ae1-3b88-4546-ed87-88122a6753c6"
      },
      "outputs": [
        {
          "name": "stdout",
          "output_type": "stream",
          "text": [
            " total number of distinct artists : 1568126\n"
          ]
        }
      ],
      "source": [
        "updatedDistinctArtists = updatedUserArtistDF.select('artistID').distinct().count()\n",
        "print(\" total number of distinct artists : {}\".format(updatedDistinctArtists))"
      ]
    },
    {
      "cell_type": "code",
      "execution_count": null,
      "metadata": {
        "colab": {
          "background_save": true
        },
        "id": "G0yfFGifHIUm",
        "outputId": "2f2caf11-2fbd-4445-dc0d-1ef5eb704ede"
      },
      "outputs": [
        {
          "data": {
            "image/png": "[encoded data removed]",
            "text/plain": [
              "<Figure size 432x288 with 1 Axes>"
            ]
          },
          "metadata": {},
          "output_type": "display_data"
        },
        {
          "name": "stdout",
          "output_type": "stream",
          "text": [
            "Sum = 371638969\n",
            "Mean = 236.99560430730693\n",
            "Max = 2502596\n",
            "Min = 1\n",
            "Percentile 25% = 1.0\n",
            "Percentile 50% = 3.0\n",
            "Percenrile 75% = 11.0\n",
            "Percentile 90% = 45.0\n",
            "Percentile 95% = 128.0\n",
            "The percentage of artists how are listened once P(YArt=1) = 32.199%\n",
            "The percentage of artists how are listened less than 1000 P(YArt<=1000) = 98.693%\n",
            "Top listened artists : \n",
            " [1426254 1543430 1931143 2259825 2502596]\n",
            "Top 5 listened artists and their percentage = 2.600%\n"
          ]
        }
      ],
      "source": [
        "updatedArtistPlaycount = updatedUserArtistDF.groupBy('artistID').sum('playcount').collect()\n",
        "updatedPdfArt = pd.DataFrame(data=updatedArtistPlaycount)\n",
        "updatedYArt = np.sort(updatedPdfArt[1])\n",
        "updatedYArtVals = np.arange(len(updatedYArt)) / float(len(updatedYArt))\n",
        "\n",
        "plt.semilogx(updatedYArt, updatedYArtVals)\n",
        "plt.xlabel('playCount')\n",
        "plt.ylabel('ECDF')\n",
        "plt.grid(True, which='both', ls='-')\n",
        "plt.title('ECDF of number of play counts per artist ID')\n",
        "plt.show()\n",
        "\n",
        "print('Sum = {}'.format(updatedYArt.sum()))\n",
        "print('Mean = {}'.format(updatedYArt.mean()))\n",
        "print('Max = {}'.format(updatedYArt.max()))\n",
        "print('Min = {}'.format(updatedYArt.min()))\n",
        "\n",
        "print('Percentile 25% = {}'.format(np.percentile(updatedYArt, 25)))\n",
        "print('Percentile 50% = {}'.format(np.percentile(updatedYArt, 50)))\n",
        "print('Percenrile 75% = {}'.format(np.percentile(updatedYArt, 75)))\n",
        "print('Percentile 90% = {}'.format(np.percentile(updatedYArt, 90)))\n",
        "print('Percentile 95% = {}'.format(np.percentile(updatedYArt, 95)))\n",
        "\n",
        "print('The percentage of artists how are listened once P(YArt=1) = {0:.3f}%'.format(100*len(updatedYArt[updatedYArt==1])/len(updatedYArt)))\n",
        "print('The percentage of artists how are listened less than 1000 P(YArt<=1000) = {0:.3f}%'.format(100*len(updatedYArt[updatedYArt<=1000])/len(updatedYArt)))\n",
        "print('Top listened artists : \\n', updatedYArt[len(updatedYArt)-5:])\n",
        "print('Top 5 listened artists and their percentage = {0:.3f}%'.format(100*updatedYArt[len(updatedYArt)-5:].sum() / updatedYArt.sum()))\n",
        "\n"
      ]
    },
    {
      "cell_type": "code",
      "execution_count": null,
      "metadata": {
        "colab": {
          "background_save": true
        },
        "id": "iGNvkQGMKL2I"
      },
      "outputs": [],
      "source": [
        "top10Artists = updatedUserArtistDF.groupBy('artistID').sum('playcount').orderBy('sum(playcount)', ascending=0).take(10)"
      ]
    },
    {
      "cell_type": "code",
      "execution_count": null,
      "metadata": {
        "colab": {
          "background_save": true
        },
        "id": "AKcg5Ov1NRFM",
        "outputId": "b8c06e14-b665-4076-e901-0cda9c329779"
      },
      "outputs": [
        {
          "data": {
            "image/png": "[encoded data removed]",
            "text/plain": [
              "<Figure size 432x288 with 1 Axes>"
            ]
          },
          "metadata": {},
          "output_type": "display_data"
        }
      ],
      "source": [
        "pdfArt2 = pd.DataFrame(data=top10Artists)\n",
        "\n",
        "y_pos2 = range(len(top10Artists))\n",
        "playCount2 = pdfArt2[1]\n",
        "artistID2 = pdfArt2[0]\n",
        "\n",
        "plt.barh(y_pos2, playCount2[::-1], color='red', align='center', alpha=0.5)\n",
        "plt.yticks(y_pos2, artistID2[::-1])\n",
        "plt.xlabel('Play Count')\n",
        "plt.ylabel('ArtistID')\n",
        "plt.title('Top 10 Artists')\n",
        "plt.show()"
      ]
    },
    {
      "cell_type": "code",
      "execution_count": null,
      "metadata": {
        "colab": {
          "background_save": true
        },
        "id": "r3ABhwPzO-GR"
      },
      "outputs": [],
      "source": [
        "top10Users = updatedUserArtistDF.groupBy('userID').sum('playcount').orderBy('sum(playcount)', ascending=0).take(10)"
      ]
    },
    {
      "cell_type": "code",
      "execution_count": null,
      "metadata": {
        "colab": {
          "background_save": true
        },
        "id": "MvoIQPIeQCpt",
        "outputId": "c374919b-b87c-4296-ebde-610a30424900"
      },
      "outputs": [
        {
          "data": {
            "image/png": "[encoded data removed]",
            "text/plain": [
              "<Figure size 432x288 with 1 Axes>"
            ]
          },
          "metadata": {},
          "output_type": "display_data"
        }
      ],
      "source": [
        "pdfUsr2 = pd.DataFrame(data=top10Users)\n",
        "\n",
        "y_pos3 = range(len(top10Users))\n",
        "playCount3 = pdfUsr2[1]\n",
        "userID3 = pdfUsr2[0]\n",
        "\n",
        "plt.barh(y_pos3, playCount3[::-1], color='green', align='center', alpha=0.5)\n",
        "plt.yticks(y_pos3, userID3[::-1])\n",
        "plt.xlabel('Play Count')\n",
        "plt.ylabel('UserID')\n",
        "plt.title('Top 10 Users')\n",
        "plt.show()"
      ]
    },
    {
      "cell_type": "code",
      "execution_count": null,
      "metadata": {
        "colab": {
          "background_save": true
        },
        "id": "Mw1TIhDnQbUI"
      },
      "outputs": [],
      "source": [
        "top10UsersC = updatedUserArtistDF.dropDuplicates(['userID', 'artistID']).groupBy('userID').count().orderBy('count', ascending=0).take(10)"
      ]
    },
    {
      "cell_type": "code",
      "execution_count": null,
      "metadata": {
        "colab": {
          "background_save": true
        },
        "id": "UIOMG6Cg00Xx",
        "outputId": "5317eeb4-ec86-43fa-f356-4250d355e2a8"
      },
      "outputs": [
        {
          "data": {
            "image/png": "[encoded data removed]",
            "text/plain": [
              "<Figure size 432x288 with 1 Axes>"
            ]
          },
          "metadata": {},
          "output_type": "display_data"
        }
      ],
      "source": [
        "pdfUsr3 = pd.DataFrame(data=top10UsersC)\n",
        "\n",
        "y_pos4 = range(len(top10UsersC))\n",
        "playCount4 = pdfUsr3[1]\n",
        "userID4 = pdfUsr3[0]\n",
        "\n",
        "plt.barh(y_pos4, playCount4[::-1], color='green', align='center', alpha=0.5)\n",
        "plt.yticks(y_pos4, userID4[::-1])\n",
        "plt.xlabel('Play Count')\n",
        "plt.ylabel('UserID')\n",
        "plt.title('Top 10 Users in term of listening')\n",
        "plt.show()"
      ]
    },
    {
      "cell_type": "markdown",
      "metadata": {
        "id": "AhOhagKH2Dry"
      },
      "source": [
        "# Statistic Model\n",
        "\n",
        "\n"
      ]
    },
    {
      "cell_type": "code",
      "execution_count": 8,
      "metadata": {
        "id": "K92V3PHc2Grq"
      },
      "outputs": [],
      "source": [
        "rawArtistAlias = sc.textFile(directory_path + \"artist_alias.txt\")\n",
        "\n",
        "def extract(s): \n",
        "    line = re.split(\"\\s|\\t\",s,1)\n",
        "    if (len(line) > 1):\n",
        "        try:\n",
        "            return (int(line[0]), int(line[1]))\n",
        "        except ValueError:\n",
        "            return (-1,-1)\n",
        "    else:\n",
        "        return (-1,-1)"
      ]
    },
    {
      "cell_type": "code",
      "source": [
        "artistAlias = rawArtistAlias.map(lambda x: extract(x)).filter(lambda x: x!= (-1, -1)).collectAsMap()"
      ],
      "metadata": {
        "id": "UpIwZMk02oxL"
      },
      "execution_count": 9,
      "outputs": []
    },
    {
      "cell_type": "code",
      "source": [
        "artistAlias2 = sc.broadcast(artistAlias)"
      ],
      "metadata": {
        "id": "BtuuFrGW2-cO"
      },
      "execution_count": 10,
      "outputs": []
    },
    {
      "cell_type": "code",
      "source": [
        "rawUserArtist = sc.textFile(directory_path + 'user_artist_data.txt')\n",
        "\n",
        "def correctMisspelled(line):\n",
        "  [userID, artistID, pCount] = line.split(' ')\n",
        "  standardArtistID = artistAlias2.value.get(artistID, artistID)\n",
        "  return (userID, artistID, pCount)"
      ],
      "metadata": {
        "id": "s4VWQGak3K0n"
      },
      "execution_count": 11,
      "outputs": []
    },
    {
      "cell_type": "code",
      "source": [
        "userArtist = rawUserArtist.map(correctMisspelled)"
      ],
      "metadata": {
        "id": "quMtGMJ_4PLT"
      },
      "execution_count": 12,
      "outputs": []
    },
    {
      "cell_type": "code",
      "source": [
        "from pyspark.mllib.recommendation import ALS, MatrixFactorizationModel, Rating"
      ],
      "metadata": {
        "id": "8wGGx_ee4rEK"
      },
      "execution_count": 13,
      "outputs": []
    },
    {
      "cell_type": "code",
      "source": [
        "dataSet = userArtist.map(lambda r: Rating(float(r[0]), float(r[1]), int(r[2]))).repartition(30).cache()"
      ],
      "metadata": {
        "id": "_gZEJp9p5AMm"
      },
      "execution_count": 14,
      "outputs": []
    },
    {
      "cell_type": "code",
      "source": [
        "trainData, testData = dataSet.randomSplit([.8, .2], 1)\n",
        "trainData.cache()\n",
        "testData.cache()"
      ],
      "metadata": {
        "id": "46CfK283VMxy",
        "colab": {
          "base_uri": "https://localhost:8080/"
        },
        "outputId": "76263263-432d-4613-ab7d-d9a536ad27df"
      },
      "execution_count": 15,
      "outputs": [
        {
          "output_type": "execute_result",
          "data": {
            "text/plain": [
              "PythonRDD[11] at RDD at PythonRDD.scala:53"
            ]
          },
          "metadata": {},
          "execution_count": 15
        }
      ]
    },
    {
      "cell_type": "code",
      "source": [
        "rank, iterations, lambda_, alpha = 10, 5, 0.01, 40"
      ],
      "metadata": {
        "id": "1O-Zkv8v6MyF"
      },
      "execution_count": 16,
      "outputs": []
    },
    {
      "cell_type": "code",
      "source": [
        "t0 = time()\n",
        "model = ALS.trainImplicit(trainData, rank, iterations, lambda_, alpha)\n",
        "t1 = time()\n",
        "\n",
        "print('training finished after {}s', format(t1-t0))"
      ],
      "metadata": {
        "colab": {
          "base_uri": "https://localhost:8080/"
        },
        "id": "LiKS-epK8KV0",
        "outputId": "d24b593a-3cbe-45bf-ebc3-15d2e2be5837"
      },
      "execution_count": 17,
      "outputs": [
        {
          "output_type": "stream",
          "name": "stdout",
          "text": [
            "training finished after {}s 402.24497270584106\n"
          ]
        }
      ]
    },
    {
      "cell_type": "code",
      "source": [
        "model.save(sc, 'capstoneProjectArtistsRecommendation.spark')\n",
        "print('Model is saved.')"
      ],
      "metadata": {
        "colab": {
          "base_uri": "https://localhost:8080/"
        },
        "id": "Eesg_5inQKO9",
        "outputId": "574ff94a-5ba2-4695-9f69-0132c5b4f7b9"
      },
      "execution_count": 18,
      "outputs": [
        {
          "output_type": "stream",
          "name": "stdout",
          "text": [
            "Model is saved.\n"
          ]
        }
      ]
    },
    {
      "cell_type": "code",
      "source": [
        "t0 = time()\n",
        "model = MatrixFactorizationModel.load(sc, 'capstoneProjectArtistsRecommendation.spark')\n",
        "t1 = time()\n",
        "print('Model loaded after {}s.'.format(t1-t0))"
      ],
      "metadata": {
        "id": "_L2DvJdo8iXF",
        "colab": {
          "base_uri": "https://localhost:8080/"
        },
        "outputId": "6634fea4-7255-4949-94fd-368a1b04661d"
      },
      "execution_count": null,
      "outputs": [
        {
          "output_type": "stream",
          "name": "stdout",
          "text": [
            "Model loaded after 5.237917184829712s.\n"
          ]
        }
      ]
    },
    {
      "cell_type": "code",
      "source": [
        "trainData.take(5)"
      ],
      "metadata": {
        "colab": {
          "base_uri": "https://localhost:8080/"
        },
        "id": "9-wQsy84K5EJ",
        "outputId": "f65b6af2-1e05-441f-f4cd-c3c7d043dec0"
      },
      "execution_count": null,
      "outputs": [
        {
          "output_type": "execute_result",
          "data": {
            "text/plain": [
              "[Rating(user=1000002, product=1003495, rating=3.0),\n",
              " Rating(user=1000002, product=1003501, rating=2.0),\n",
              " Rating(user=1000002, product=1003511, rating=1.0),\n",
              " Rating(user=1000002, product=1003514, rating=5.0),\n",
              " Rating(user=1000002, product=1003515, rating=2.0)]"
            ]
          },
          "metadata": {},
          "execution_count": 29
        }
      ]
    },
    {
      "cell_type": "code",
      "source": [
        "allItemsIDs = np.array(dataSet.map(lambda x:  x[1]).distinct().collect())"
      ],
      "metadata": {
        "id": "47pWcS0jRGrh"
      },
      "execution_count": 19,
      "outputs": []
    },
    {
      "cell_type": "code",
      "source": [
        "allItemsIDs2 = sc.broadcast(allItemsIDs)"
      ],
      "metadata": {
        "id": "DVasBR4Lrxoe"
      },
      "execution_count": 20,
      "outputs": []
    },
    {
      "cell_type": "code",
      "source": [
        "from random import randint\n",
        "\n",
        "def extractNegative(userIDsAndPosItemsIDs):\n",
        "\n",
        "  def extractEnoughNegative(line):\n",
        "    userID = line[0]\n",
        "    posItemIDSet = set(line[1])\n",
        "    negative = []\n",
        "    allItemsIDs = allItemsIDs2.value\n",
        "    i = 0\n",
        "    while( i< len(allItemsIDs) and len(negative)<len(posItemIDSet) ):\n",
        "      itemID = allItemsIDs[randint(0, len(allItemsIDs)-1)]\n",
        "      if itemID not in posItemIDSet:\n",
        "        negative.append(itemID)\n",
        "      i += 1\n",
        "    return map(lambda itemID: (userID, itemID), negative)\n",
        "\n",
        "  return map(extractEnoughNegative, userIDsAndPosItemsIDs)"
      ],
      "metadata": {
        "id": "-Yd6ar0isJUR"
      },
      "execution_count": 21,
      "outputs": []
    },
    {
      "cell_type": "code",
      "source": [
        "def ratioOfCorrectRanks(positiveRatings, negativeRatings):\n",
        "\n",
        "    def findNumElementsSmallerThan(arr, x, start=0):\n",
        "        left = start\n",
        "        right = len(arr) -1\n",
        "        if start > right or x > arr[right]:\n",
        "            return right + 1\n",
        "        mid = -1\n",
        "        while left <= right:\n",
        "            mid = (left + right) // 2\n",
        "            if arr[mid] < x:\n",
        "                left = mid + 1\n",
        "            elif arr[mid] > x:\n",
        "                right = mid - 1\n",
        "            else:\n",
        "                while mid-1 >= start and arr[mid-1] == x:\n",
        "                    mid -= 1\n",
        "                return mid\n",
        "        return mid if arr[mid] > x else mid + 1\n",
        "    \n",
        "   \n",
        "    correct = 0 \n",
        "    total = 0 \n",
        "    \n",
        "    negativeRatings = list(map(lambda x:x.rating, negativeRatings))\n",
        "    \n",
        "    negativeRatings.sort()\n",
        "    total = len(positiveRatings)*len(negativeRatings)\n",
        "    \n",
        "    for positive in positiveRatings:\n",
        "        correct += findNumElementsSmallerThan(negativeRatings, positive.rating)\n",
        "        \n",
        "    return float(correct) / total"
      ],
      "metadata": {
        "id": "FetTKghiuolz"
      },
      "execution_count": 22,
      "outputs": []
    },
    {
      "cell_type": "code",
      "source": [
        "def computeAUC(positiveData, allItemIDs2, predictFunction):\n",
        "    positiveUserProducts = positiveData.map(lambda r: (r[0], r[1]))\n",
        "    positivePredictions = predictFunction(positiveUserProducts).groupBy(lambda r: r.user)\n",
        "    \n",
        "    negativeUserProducts = positiveUserProducts.groupByKey().mapPartitions(extractNegative).flatMap(lambda x: x)\n",
        "    negativePredictions = predictFunction(negativeUserProducts).groupBy(lambda r: r.user)\n",
        "    \n",
        "    return (positivePredictions.join(negativePredictions).values().map(lambda positive_negativeRatings: ratioOfCorrectRanks(positive_negativeRatings[0], positive_negativeRatings[1])).mean())"
      ],
      "metadata": {
        "id": "6XhdZ-S20dkE"
      },
      "execution_count": 23,
      "outputs": []
    },
    {
      "cell_type": "code",
      "source": [
        "t0 = time()\n",
        "auc = computeAUC( testData, allItemsIDs2, model.predictAll)\n",
        "t1 = time()\n",
        "print(\"AUC=\",auc)\n",
        "print(\"Predictions finished after {}\" .format(t1-t0))"
      ],
      "metadata": {
        "colab": {
          "base_uri": "https://localhost:8080/"
        },
        "id": "IrBHPpj04AyP",
        "outputId": "cf0bd89a-b7a6-49ec-a61a-b2d3d61bb6a3"
      },
      "execution_count": 24,
      "outputs": [
        {
          "output_type": "stream",
          "name": "stdout",
          "text": [
            "AUC= 0.9603278483259308\n",
            "Predictions finished after 293.67347383499146\n"
          ]
        }
      ]
    },
    {
      "cell_type": "code",
      "source": [
        ""
      ],
      "metadata": {
        "id": "QlLeM1Z_OlcM"
      },
      "execution_count": null,
      "outputs": []
    }
  ],
  "metadata": {
    "accelerator": "GPU",
    "colab": {
      "collapsed_sections": [],
      "name": "CapstoneProject.ipynb",
      "provenance": []
    },
    "kernelspec": {
      "display_name": "Python 3.7",
      "language": "python",
      "name": "python3"
    },
    "language_info": {
      "codemirror_mode": {
        "name": "ipython",
        "version": 3
      },
      "file_extension": ".py",
      "mimetype": "text/x-python",
      "name": "python",
      "nbconvert_exporter": "python",
      "pygments_lexer": "ipython3",
      "version": "3.7.11"
    }
  },
  "nbformat": 4,
  "nbformat_minor": 0
}